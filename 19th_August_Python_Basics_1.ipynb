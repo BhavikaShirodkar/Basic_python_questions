{
  "nbformat": 4,
  "nbformat_minor": 0,
  "metadata": {
    "colab": {
      "provenance": []
    },
    "kernelspec": {
      "name": "python3",
      "display_name": "Python 3"
    },
    "language_info": {
      "name": "python"
    }
  },
  "cells": [
    {
      "cell_type": "markdown",
      "source": [
        "1. Declare two variables, `x` and `y`, and assign them integer values. Swap the\n",
        "   values of these variables without using any temporary variable.\n",
        "\n",
        "   "
      ],
      "metadata": {
        "id": "mSzXDfxRhKWN"
      }
    },
    {
      "cell_type": "code",
      "source": [
        "#declaring veriable and assigning values\n",
        "x = 10\n",
        "y = 20\n",
        "\n",
        "x = x + y\n",
        "y = x - y\n",
        "x = x - y\n",
        "\n",
        "print(x)\n",
        "print(y)"
      ],
      "metadata": {
        "colab": {
          "base_uri": "https://localhost:8080/"
        },
        "id": "t-L9eFexhOkV",
        "outputId": "e0e653db-37c7-447b-c4d3-6e422a631e82"
      },
      "execution_count": 1,
      "outputs": [
        {
          "output_type": "stream",
          "name": "stdout",
          "text": [
            "20\n",
            "10\n"
          ]
        }
      ]
    },
    {
      "cell_type": "markdown",
      "source": [
        "2. Create a program that calculates the area of a rectangle. Take the length and\n",
        "width as inputs from the user and store them in variables. Calculate and\n",
        "display the area."
      ],
      "metadata": {
        "id": "9LGy4YgfhdkG"
      }
    },
    {
      "cell_type": "code",
      "source": [
        "l = int(input(\"Enter Length: \"))\n",
        "w = int(input(\"Enter width: \"))\n",
        "\n",
        "Area = l * w\n",
        "print(\"Area of a rectangle is \",Area)"
      ],
      "metadata": {
        "colab": {
          "base_uri": "https://localhost:8080/"
        },
        "id": "dAzG88fzhVPx",
        "outputId": "0dc7ac5c-4c69-4c3a-ea14-4cd4abec1d88"
      },
      "execution_count": 2,
      "outputs": [
        {
          "output_type": "stream",
          "name": "stdout",
          "text": [
            "Enter Length: 27\n",
            "Enter width: 30\n",
            "Area of a rectangle is  810\n"
          ]
        }
      ]
    },
    {
      "cell_type": "markdown",
      "source": [
        "3. Write a Python program that converts temperatures from Celsius to\n",
        "Fahrenheit. Take the temperature in Celsius as input, store it in a variable,\n",
        "convert it to Fahrenheit, and display the result."
      ],
      "metadata": {
        "id": "FWZQgEP_htRD"
      }
    },
    {
      "cell_type": "code",
      "source": [
        "c = int(input(\"Enter temperature in celsius: \"))\n",
        "\n",
        "f = (c*9/5) + 32\n",
        "print(\"Temprature in fahrenheit:\",f)"
      ],
      "metadata": {
        "colab": {
          "base_uri": "https://localhost:8080/"
        },
        "id": "_Q1AegSbhoP8",
        "outputId": "20845624-4337-4892-909b-c8cab1382926"
      },
      "execution_count": 3,
      "outputs": [
        {
          "output_type": "stream",
          "name": "stdout",
          "text": [
            "Enter temperature in celsius: 28\n",
            "Temprature in fahrenheit: 82.4\n"
          ]
        }
      ]
    },
    {
      "cell_type": "markdown",
      "source": [
        "**String based**\n",
        "1. Write a Python program that takes a string as input and prints the length of\n",
        "the string."
      ],
      "metadata": {
        "id": "i0JIS4_PiB2J"
      }
    },
    {
      "cell_type": "code",
      "source": [
        "str = input(\"Enter a string: \")\n",
        "\n",
        "counter = 0\n",
        "\n",
        "for i in str:\n",
        "  counter = counter + 1\n",
        "\n",
        "print(\"length of the string is:\",counter)"
      ],
      "metadata": {
        "colab": {
          "base_uri": "https://localhost:8080/"
        },
        "id": "k8Ux5yGbh81m",
        "outputId": "af0acee4-969a-42ba-e2f0-e1eb6316ed09"
      },
      "execution_count": 4,
      "outputs": [
        {
          "output_type": "stream",
          "name": "stdout",
          "text": [
            "Enter a string: bhavika\n",
            "length of the string is: 7\n"
          ]
        }
      ]
    },
    {
      "cell_type": "markdown",
      "source": [
        "2. Create a program that takes a sentence from the user and counts the number\n",
        "of vowels (a, e, i, o, u) in the string."
      ],
      "metadata": {
        "id": "XZkfqHrOiimT"
      }
    },
    {
      "cell_type": "code",
      "source": [
        "sentence = input(\"Enter the sentence: \")\n",
        "\n",
        "string = sentence.lower()\n",
        "print(string)\n",
        "\n",
        "count = 0\n",
        "list1 = ['a','e','i','o','u']\n",
        "\n",
        "for i in string:\n",
        "  if i in list1:\n",
        "    count = count+1\n",
        "\n",
        "print(\"Number of vowels are\",count)"
      ],
      "metadata": {
        "colab": {
          "base_uri": "https://localhost:8080/"
        },
        "id": "D9E0Qvk_iPCY",
        "outputId": "6b4e40c8-80d5-490c-d09a-e4a73b1022be"
      },
      "execution_count": 5,
      "outputs": [
        {
          "output_type": "stream",
          "name": "stdout",
          "text": [
            "Enter the sentence: typing any random string for fetching vowels\n",
            "typing any random string for fetching vowels\n",
            "Number of vowels are 10\n"
          ]
        }
      ]
    },
    {
      "cell_type": "markdown",
      "source": [
        "3. Given a string, reverse the order of characters using string slicing and print\n",
        "the reversed string."
      ],
      "metadata": {
        "id": "Mz15AdIsi0MV"
      }
    },
    {
      "cell_type": "code",
      "source": [
        "string = \"hello Developer, nice to meet you!\"\n",
        "string[::-1]\n",
        "\n",
        "#another method\n",
        "# string[slice(None,None,-1)]"
      ],
      "metadata": {
        "colab": {
          "base_uri": "https://localhost:8080/",
          "height": 36
        },
        "id": "ksMNImaxis86",
        "outputId": "8d47bb54-bc01-4473-fe09-cad18db4971e"
      },
      "execution_count": 6,
      "outputs": [
        {
          "output_type": "execute_result",
          "data": {
            "text/plain": [
              "'!uoy teem ot ecin ,repoleveD olleh'"
            ],
            "application/vnd.google.colaboratory.intrinsic+json": {
              "type": "string"
            }
          },
          "metadata": {},
          "execution_count": 6
        }
      ]
    },
    {
      "cell_type": "markdown",
      "source": [
        "4. Write a program that takes a string as input and checks if it is a palindrome\n",
        "(reads the same forwards and backwards)."
      ],
      "metadata": {
        "id": "zoBlhf9TjEMi"
      }
    },
    {
      "cell_type": "code",
      "source": [
        "a = input(\"Enter a string:\")\n",
        "b = a[-1::-1]\n",
        "\n",
        "if (a==b):\n",
        "  print(\"Palindrome string\")\n",
        "else:\n",
        "  print(\"Not Palindrome string\")"
      ],
      "metadata": {
        "colab": {
          "base_uri": "https://localhost:8080/"
        },
        "id": "oEYn9JA_jBQj",
        "outputId": "b86e3037-78de-4922-c331-12df07d15eb9"
      },
      "execution_count": 7,
      "outputs": [
        {
          "output_type": "stream",
          "name": "stdout",
          "text": [
            "Enter a string:madam\n",
            "Palindrome string\n"
          ]
        }
      ]
    },
    {
      "cell_type": "markdown",
      "source": [
        "5. Create a program that takes a string as input and removes all the spaces from\n",
        "it. Print the modified string without spaces."
      ],
      "metadata": {
        "id": "ib-BTBmBjYBI"
      }
    },
    {
      "cell_type": "code",
      "source": [
        "string = input(\"Enter a string:\")\n",
        "\n",
        "print(string.replace(\" \",\"\"))\n",
        "\n",
        "#another method :- new_string = \"\".join(string.split())\n",
        "#                  print(new_string)"
      ],
      "metadata": {
        "colab": {
          "base_uri": "https://localhost:8080/"
        },
        "id": "IVsA9LpcjTj6",
        "outputId": "3a427cb9-84db-44c6-f272-a5dc8883bf45"
      },
      "execution_count": 8,
      "outputs": [
        {
          "output_type": "stream",
          "name": "stdout",
          "text": [
            "Enter a string:kri    sh  na\n",
            "krishna\n"
          ]
        }
      ]
    },
    {
      "cell_type": "code",
      "source": [],
      "metadata": {
        "id": "nESWhBfYjozf"
      },
      "execution_count": null,
      "outputs": []
    }
  ]
}